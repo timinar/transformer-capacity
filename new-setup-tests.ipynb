{
 "cells": [
  {
   "cell_type": "code",
   "execution_count": 1,
   "metadata": {},
   "outputs": [],
   "source": [
    "from nanogpt import GPT"
   ]
  },
  {
   "cell_type": "code",
   "execution_count": 82,
   "metadata": {},
   "outputs": [],
   "source": [
    "import torch\n",
    "import torch.nn.functional as F"
   ]
  },
  {
   "cell_type": "code",
   "execution_count": 2,
   "metadata": {},
   "outputs": [
    {
     "name": "stderr",
     "output_type": "stream",
     "text": [
      "/Users/inar/.local/lib/python3.11/site-packages/tqdm/auto.py:22: TqdmWarning: IProgress not found. Please update jupyter and ipywidgets. See https://ipywidgets.readthedocs.io/en/stable/user_install.html\n",
      "  from .autonotebook import tqdm as notebook_tqdm\n"
     ]
    }
   ],
   "source": [
    "from transformers import AutoTokenizer, GPT2LMHeadModel"
   ]
  },
  {
   "cell_type": "code",
   "execution_count": 3,
   "metadata": {},
   "outputs": [],
   "source": [
    "tokenizer = AutoTokenizer.from_pretrained(\"gpt2\")\n",
    "model_hf = GPT2LMHeadModel.from_pretrained(\"gpt2\")"
   ]
  },
  {
   "cell_type": "markdown",
   "metadata": {},
   "source": [
    "# NanoGPT, loading the pretrained model"
   ]
  },
  {
   "cell_type": "code",
   "execution_count": 4,
   "metadata": {},
   "outputs": [
    {
     "name": "stdout",
     "output_type": "stream",
     "text": [
      "loading weights from pretrained gpt: gpt2\n",
      "forcing vocab_size=50257, block_size=1024, bias=True\n",
      "number of parameters: 123.65M\n"
     ]
    }
   ],
   "source": [
    "model = GPT.from_pretrained('gpt2') "
   ]
  },
  {
   "cell_type": "markdown",
   "metadata": {},
   "source": [
    "## Compare with HF"
   ]
  },
  {
   "cell_type": "code",
   "execution_count": 5,
   "metadata": {},
   "outputs": [],
   "source": [
    "\n",
    "test_text =  \"Tom and Lily were playing with their toys in the living room. They liked to build towers and bridges with their blocks and cars. \"\n",
    "inputs = tokenizer(test_text, return_tensors=\"pt\")\n",
    "\n"
   ]
  },
  {
   "cell_type": "code",
   "execution_count": 23,
   "metadata": {},
   "outputs": [
    {
     "name": "stdout",
     "output_type": "stream",
     "text": [
      "CPU times: user 55.3 ms, sys: 18.3 ms, total: 73.6 ms\n",
      "Wall time: 45.4 ms\n"
     ]
    }
   ],
   "source": [
    "%%time\n",
    "outputs_hf = model_hf(**inputs, labels=inputs[\"input_ids\"])"
   ]
  },
  {
   "cell_type": "code",
   "execution_count": 24,
   "metadata": {},
   "outputs": [
    {
     "name": "stdout",
     "output_type": "stream",
     "text": [
      "CPU times: user 54.5 ms, sys: 16.2 ms, total: 70.7 ms\n",
      "Wall time: 45.3 ms\n"
     ]
    }
   ],
   "source": [
    "%%time\n",
    "outputs = model(inputs.input_ids)"
   ]
  },
  {
   "cell_type": "code",
   "execution_count": 25,
   "metadata": {},
   "outputs": [
    {
     "data": {
      "text/plain": [
       "(torch.Size([1, 27, 50257]), torch.Size([1, 27, 50257]))"
      ]
     },
     "execution_count": 25,
     "metadata": {},
     "output_type": "execute_result"
    }
   ],
   "source": [
    "outputs_hf.logits.shape, outputs[0].shape"
   ]
  },
  {
   "cell_type": "code",
   "execution_count": 26,
   "metadata": {},
   "outputs": [
    {
     "data": {
      "text/plain": [
       "True"
      ]
     },
     "execution_count": 26,
     "metadata": {},
     "output_type": "execute_result"
    }
   ],
   "source": [
    "torch.allclose(outputs[0], outputs_hf.logits)"
   ]
  },
  {
   "cell_type": "markdown",
   "metadata": {},
   "source": [
    "# Performance"
   ]
  },
  {
   "cell_type": "code",
   "execution_count": 27,
   "metadata": {},
   "outputs": [
    {
     "name": "stderr",
     "output_type": "stream",
     "text": [
      "Token indices sequence length is longer than the specified maximum sequence length for this model (225798 > 1024). Running this sequence through the model will result in indexing errors\n"
     ]
    }
   ],
   "source": [
    "import requests\n",
    "import random\n",
    "\n",
    "def split_text_into_token_chunks(text, max_length, tokenizer):\n",
    "    # Tokenize the text\n",
    "    tokens = tokenizer.tokenize(text)\n",
    "    # Split the tokens into chunks that do not exceed max_length\n",
    "    chunks = []\n",
    "    current_chunk = []\n",
    "    current_length = 0\n",
    "    for token in tokens:\n",
    "        current_chunk.append(token)\n",
    "        current_length += 1\n",
    "        if current_length == max_length:\n",
    "            chunks.append(tokenizer.convert_tokens_to_string(current_chunk))\n",
    "            current_chunk = []\n",
    "            current_length = 0\n",
    "    # Don't forget to add the last chunk if it's not empty\n",
    "    if current_chunk:\n",
    "        chunks.append(tokenizer.convert_tokens_to_string(current_chunk))\n",
    "    return chunks\n",
    "\n",
    "# Function to fetch text from a URL\n",
    "def fetch_text_from_url(url):\n",
    "    response = requests.get(url)\n",
    "    # Check if the request was successful\n",
    "    if response.status_code == 200:\n",
    "        return response.text\n",
    "    else:\n",
    "        raise Exception(f\"Failed to retrieve text from {url}, status code: {response.status_code}\")\n",
    "\n",
    "# URLs to fetch - replace these URLs with the actual Project Gutenberg URLs\n",
    "urls = [\n",
    "    'http://www.gutenberg.org/files/1342/1342-0.txt',  # Example: Pride and Prejudice by Jane Austen\n",
    "    'http://www.gutenberg.org/cache/epub/11/pg11.txt',  # Example: Alice's Adventures in Wonderland by Lewis Carroll\n",
    "]\n",
    "\n",
    "\n",
    "max_length = 512 #tokenizer.model_max_length\n",
    "\n",
    "# List to hold all the text chunks\n",
    "text_chunks = []\n",
    "\n",
    "# Fetch texts and split into chunks\n",
    "for url in urls:\n",
    "    text = fetch_text_from_url(url)\n",
    "    # Optionally, clean and preprocess the text as needed\n",
    "    # ...\n",
    "    # Split the text into chunks suitable for GPT-2\n",
    "    chunks = split_text_into_token_chunks(text, max_length, tokenizer)\n",
    "    text_chunks.extend(chunks)"
   ]
  },
  {
   "cell_type": "code",
   "execution_count": 70,
   "metadata": {},
   "outputs": [],
   "source": [
    "inputs = tokenizer(text_chunks[111], return_tensors=\"pt\")"
   ]
  },
  {
   "cell_type": "code",
   "execution_count": 71,
   "metadata": {},
   "outputs": [
    {
     "data": {
      "text/plain": [
       "torch.Size([1, 512])"
      ]
     },
     "execution_count": 71,
     "metadata": {},
     "output_type": "execute_result"
    }
   ],
   "source": [
    "inputs.input_ids.shape"
   ]
  },
  {
   "cell_type": "code",
   "execution_count": 72,
   "metadata": {},
   "outputs": [
    {
     "name": "stdout",
     "output_type": "stream",
     "text": [
      "CPU times: user 657 ms, sys: 817 ms, total: 1.47 s\n",
      "Wall time: 569 ms\n"
     ]
    }
   ],
   "source": [
    "%%time\n",
    "outputs_hf = model_hf(**inputs, labels=inputs[\"input_ids\"])"
   ]
  },
  {
   "cell_type": "code",
   "execution_count": 73,
   "metadata": {},
   "outputs": [
    {
     "name": "stdout",
     "output_type": "stream",
     "text": [
      "CPU times: user 554 ms, sys: 656 ms, total: 1.21 s\n",
      "Wall time: 545 ms\n"
     ]
    }
   ],
   "source": [
    "%%time\n",
    "outputs = model(inputs.input_ids)"
   ]
  },
  {
   "cell_type": "code",
   "execution_count": null,
   "metadata": {},
   "outputs": [],
   "source": []
  },
  {
   "cell_type": "code",
   "execution_count": 74,
   "metadata": {},
   "outputs": [
    {
     "data": {
      "text/plain": [
       "(torch.Size([1, 512, 50257]), torch.Size([1, 512, 50257]))"
      ]
     },
     "execution_count": 74,
     "metadata": {},
     "output_type": "execute_result"
    }
   ],
   "source": [
    "outputs_hf.logits.shape, outputs[0].shape"
   ]
  },
  {
   "cell_type": "code",
   "execution_count": 75,
   "metadata": {},
   "outputs": [
    {
     "data": {
      "text/plain": [
       "True"
      ]
     },
     "execution_count": 75,
     "metadata": {},
     "output_type": "execute_result"
    }
   ],
   "source": [
    "torch.allclose(outputs_hf.logits, outputs[0], atol=1e-2)"
   ]
  },
  {
   "cell_type": "code",
   "execution_count": 76,
   "metadata": {},
   "outputs": [
    {
     "name": "stdout",
     "output_type": "stream",
     "text": [
      "Index: (tensor(0), tensor(328), tensor(2129)), HF Value: 103.21697998046875, My Value: 103.2179946899414, Diff: -0.00101470947265625\n",
      "Index: (tensor(0), tensor(328), tensor(3422)), HF Value: 101.6489028930664, My Value: 101.64990997314453, Diff: -0.001007080078125\n",
      "Index: (tensor(0), tensor(328), tensor(3857)), HF Value: 103.56383514404297, My Value: 103.5648422241211, Diff: -0.001007080078125\n",
      "Index: (tensor(0), tensor(328), tensor(4200)), HF Value: 101.34343719482422, My Value: 101.3444595336914, Diff: -0.0010223388671875\n",
      "Index: (tensor(0), tensor(328), tensor(4201)), HF Value: 102.64205932617188, My Value: 102.64306640625, Diff: -0.001007080078125\n",
      "Index: (tensor(0), tensor(328), tensor(4395)), HF Value: 102.17903137207031, My Value: 102.18004608154297, Diff: -0.00101470947265625\n",
      "Index: (tensor(0), tensor(328), tensor(10254)), HF Value: 105.78755950927734, My Value: 105.78858184814453, Diff: -0.0010223388671875\n",
      "Index: (tensor(0), tensor(328), tensor(11056)), HF Value: 104.9476089477539, My Value: 104.94861602783203, Diff: -0.001007080078125\n",
      "Index: (tensor(0), tensor(328), tensor(11271)), HF Value: 103.5008316040039, My Value: 103.50184631347656, Diff: -0.00101470947265625\n",
      "Index: (tensor(0), tensor(328), tensor(11681)), HF Value: 102.28570556640625, My Value: 102.28671264648438, Diff: -0.001007080078125\n",
      "Index: (tensor(0), tensor(328), tensor(11747)), HF Value: 103.37384796142578, My Value: 103.3748550415039, Diff: -0.001007080078125\n"
     ]
    }
   ],
   "source": [
    "import torch\n",
    "\n",
    "# Assuming outputs_hf.logits and outputs[0] are your two tensors\n",
    "difference = torch.abs(outputs_hf.logits - outputs[0])\n",
    "\n",
    "# You can use a threshold to find all elements with a difference above this threshold\n",
    "threshold = 1e-3  # You can adjust this threshold\n",
    "large_diffs = difference > threshold\n",
    "\n",
    "# Now, get the indices of the largest differences\n",
    "largest_diff_indices = torch.where(large_diffs)\n",
    "\n",
    "counter = 0\n",
    "# Inspect values\n",
    "for idx in zip(*largest_diff_indices):\n",
    "    hf_value = outputs_hf.logits[idx].item()\n",
    "    my_value = outputs[0][idx].item()\n",
    "    print(f\"Index: {idx}, HF Value: {hf_value}, My Value: {my_value}, Diff: {hf_value - my_value}\")\n",
    "    counter+=1\n",
    "    if counter > 10:\n",
    "        break\n"
   ]
  },
  {
   "cell_type": "code",
   "execution_count": 78,
   "metadata": {},
   "outputs": [],
   "source": [
    "import matplotlib.pyplot as plt"
   ]
  },
  {
   "cell_type": "code",
   "execution_count": 80,
   "metadata": {},
   "outputs": [
    {
     "data": {
      "text/plain": [
       "[<matplotlib.lines.Line2D at 0x3488fccd0>]"
      ]
     },
     "execution_count": 80,
     "metadata": {},
     "output_type": "execute_result"
    },
    {
     "data": {
      "image/png": "[encoded data removed]",
      "text/plain": [
       "<Figure size 640x480 with 1 Axes>"
      ]
     },
     "metadata": {},
     "output_type": "display_data"
    }
   ],
   "source": [
    "plt.plot(outputs_hf.logits[0,328].detach().numpy())"
   ]
  },
  {
   "cell_type": "code",
   "execution_count": 84,
   "metadata": {},
   "outputs": [],
   "source": []
  },
  {
   "cell_type": "code",
   "execution_count": 83,
   "metadata": {},
   "outputs": [],
   "source": [
    "def get_probability_distribution(logits):\n",
    "    probabilities = F.softmax(logits, dim=-1)\n",
    "    return probabilities"
   ]
  },
  {
   "cell_type": "code",
   "execution_count": 108,
   "metadata": {},
   "outputs": [
    {
     "data": {
      "text/plain": [
       "'\\r'"
      ]
     },
     "execution_count": 108,
     "metadata": {},
     "output_type": "execute_result"
    }
   ],
   "source": [
    "tokenizer.decode(inputs.input_ids[0,328])"
   ]
  },
  {
   "cell_type": "code",
   "execution_count": 109,
   "metadata": {},
   "outputs": [
    {
     "data": {
      "text/plain": [
       "'. I hope your plans in favour of the ----shire will\\r\\nnot be affected by his being in the neighbourhood.â\\x80\\x9d\\r\\n\\r\\nâ\\x80\\x9cOh no--it is not for _me_ to be driven away by Mr. Darcy. If _he_\\r\\nwishes to avoid seeing _me_ he must go. We are not on friendly terms,\\r\\nand it always gives me pain to meet him, but I have no reason for\\r\\navoiding _him_ but what I might proclaim to all the world--a sense of\\r\\nvery great ill-usage, and most painful regrets at his being what he is.\\r\\nHis father, Miss Bennet, the late Mr. Darcy, was one of the best men\\r\\nthat ever breathed, and the truest friend I ever had; and I can never be\\r\\nin company with this Mr. Darcy without being grieved to the soul by a\\r\\nthousand tender recollections. His behaviour to myself has been\\r\\nscandalous; but I verily believe I could forgive him anything and\\r\\neverything, rather than his disappointing the hopes and disgracing the\\r\\nmemory of his father.â\\x80\\x9d\\r\\n\\r\\nElizabeth found the interest of the subject increase, and listened with\\r\\nall her heart; but the delicacy of it prevented further inquiry.\\r\\n\\r\\nMr. Wickham began to speak on more general topics, Meryton, the\\r\\nneighbourhood, the society, appearing highly pleased with all that he\\r\\nhad yet seen, and speaking of the latter, especially, with gentle but\\r\\nvery intelligible gallantry.\\r\\n\\r\\nâ\\x80\\x9cIt was the prospect of constant society, and good society,â\\x80\\x9d he added,\\r\\nâ\\x80\\x9cwhich was my chief inducement to enter the ----shire. I know it to be a\\r\\nmost respectable, agreeable corps; and my friend Denny tempted me\\r\\nfurther by his account of their present quarters, and the very great\\r\\nattentions and excellent acquaintance Meryton had procured them.\\r\\nSociety, I own, is necessary to me. I have been a disappointed man, and\\r\\nmy spirits will not bear solitude. I _must_ have employment and society.\\r\\nA military life is not what I was intended for, but circumstances have\\r\\nnow'"
      ]
     },
     "execution_count": 109,
     "metadata": {},
     "output_type": "execute_result"
    }
   ],
   "source": [
    "text_chunks[111]"
   ]
  },
  {
   "cell_type": "code",
   "execution_count": 110,
   "metadata": {},
   "outputs": [
    {
     "name": "stdout",
     "output_type": "stream",
     "text": [
      "Token: \n",
      "          Probability: 0.9245\n",
      "Token: <|endoftext|> Probability: 0.0074\n",
      "Token: \n",
      "\n",
      "         Probability: 0.0027\n",
      "Token: all        Probability: 0.0020\n",
      "Token: â          Probability: 0.0020\n",
      "Token: �          Probability: 0.0012\n",
      "Token: ,          Probability: 0.0010\n",
      "Token: \n",
      "          Probability: 0.0010\n",
      "Token: -          Probability: 0.0009\n",
      "Token: Â          Probability: 0.0007\n"
     ]
    }
   ],
   "source": [
    "# Get the top 20 probabilities and indices for the logits at a specific position\n",
    "topk_values, topk_indices = torch.topk(get_probability_distribution(outputs_hf.logits[0, 328].detach()), 10)\n",
    "\n",
    "# Convert topk_indices to tokens using the tokenizer\n",
    "topk_tokens = [tokenizer.decode([idx]) for idx in topk_indices.tolist()]\n",
    "\n",
    "# Print the tokens and their probabilities\n",
    "for token, prob in zip(topk_tokens, topk_values.tolist()):\n",
    "    print(f\"Token: {token :10} Probability: {prob:.4f}\")"
   ]
  },
  {
   "cell_type": "code",
   "execution_count": 111,
   "metadata": {},
   "outputs": [
    {
     "data": {
      "text/plain": [
       "['\\n', '<|endoftext|>', '\\n\\n', 'all', 'â', '�', ',', '\\n\\xa0', '-', 'Â']"
      ]
     },
     "execution_count": 111,
     "metadata": {},
     "output_type": "execute_result"
    }
   ],
   "source": [
    "topk_tokens\n"
   ]
  },
  {
   "cell_type": "markdown",
   "metadata": {},
   "source": [
    "# Intermediate results\n",
    "\n",
    "- nanoGPT matches HF\n",
    "- test text quality! Gutenberg is full of weird tokens."
   ]
  },
  {
   "cell_type": "code",
   "execution_count": null,
   "metadata": {},
   "outputs": [],
   "source": []
  }
 ],
 "metadata": {
  "kernelspec": {
   "display_name": "torch2",
   "language": "python",
   "name": "python3"
  },
  "language_info": {
   "codemirror_mode": {
    "name": "ipython",
    "version": 3
   },
   "file_extension": ".py",
   "mimetype": "text/x-python",
   "name": "python",
   "nbconvert_exporter": "python",
   "pygments_lexer": "ipython3",
   "version": "3.11.6"
  }
 },
 "nbformat": 4,
 "nbformat_minor": 2
}
