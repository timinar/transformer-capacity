{
 "cells": [
  {
   "cell_type": "code",
   "execution_count": 2,
   "metadata": {},
   "outputs": [],
   "source": [
    "from pathlib import Path\n",
    "from tokenizers import (Tokenizer, decoders, models, pre_tokenizers,\n",
    "                        processors, trainers)\n",
    "from tokenizers.normalizers import NFKC\n"
   ]
  },
  {
   "cell_type": "code",
   "execution_count": 14,
   "metadata": {},
   "outputs": [],
   "source": [
    "VOCAB_SIZE = 4096"
   ]
  },
  {
   "cell_type": "code",
   "execution_count": 20,
   "metadata": {},
   "outputs": [
    {
     "name": "stdout",
     "output_type": "stream",
     "text": [
      "1\n"
     ]
    }
   ],
   "source": [
    "# We train the tokenizer on the train data only\n",
    "data_dir = Path(\"./data/babylm_10M_clean/\")\n",
    "\n",
    "paths = ['./data/babylm_10M_clean/children_stories.train']\n",
    "\n",
    "# paths\n",
    "print(len(paths))\n",
    "assert len(paths) > 0, 'No data files found'"
   ]
  },
  {
   "cell_type": "code",
   "execution_count": 21,
   "metadata": {},
   "outputs": [],
   "source": [
    "tokenizer = Tokenizer(models.BPE())\n",
    "\n",
    "tokenizer.pre_tokenizer = pre_tokenizers.ByteLevel(add_prefix_space=True)\n",
    "tokenizer.decoder = decoders.ByteLevel()\n",
    "tokenizer.post_processor = processors.ByteLevel(trim_offsets=True)\n",
    "tokenizer.normalizer = NFKC()"
   ]
  },
  {
   "cell_type": "code",
   "execution_count": 22,
   "metadata": {},
   "outputs": [
    {
     "name": "stdout",
     "output_type": "stream",
     "text": [
      "\n",
      "\n",
      "\n"
     ]
    }
   ],
   "source": [
    "trainer = trainers.BpeTrainer(vocab_size=VOCAB_SIZE, min_frequency=2, special_tokens=[\"<pad>\", \"<s>\", \"</s>\"])\n",
    "tokenizer.train(paths, trainer)"
   ]
  },
  {
   "cell_type": "code",
   "execution_count": 23,
   "metadata": {},
   "outputs": [],
   "source": [
    "tokenizer_path =  f\"./models/tokenizer-{VOCAB_SIZE}.json\"\n",
    "tokenizer.save(str(tokenizer_path), pretty=True)"
   ]
  },
  {
   "cell_type": "code",
   "execution_count": 24,
   "metadata": {},
   "outputs": [
    {
     "name": "stdout",
     "output_type": "stream",
     "text": [
      "Encoded String: ['ĠThe', 'Ġquick', 'Ġbrown', 'Ġfox', 'Ġj', 'um', 'ps', 'Ġover', 'Ġthe', 'Ġlaz', 'y', 'Ġdog', '.']\n",
      "Encoded IDs: [174, 1393, 1895, 2761, 308, 425, 707, 417, 108, 3721, 81, 1215, 14]\n",
      "Decoded String:  The quick brown fox jumps over the lazy dog.\n"
     ]
    }
   ],
   "source": [
    "tokenizer = Tokenizer.from_file(str(tokenizer_path))\n",
    "\n",
    "\n",
    "# text = 'Shiro Okada (岡田志郎, \"Okada Shirō\", June 9, 1949; Hirakata, Osaka {age 71} - ) is a Japanese guitarist who participate in the Group Sound band, the Ox. His nickname was Shiro (シロー) and his real name is Shiro Okamoto (岡田史郎).'\n",
    "text = \"The quick brown fox jumps over the lazy dog.\"\n",
    "\n",
    "encoded = tokenizer.encode(text)\n",
    "print(f\"Encoded String: {encoded.tokens}\")\n",
    "\n",
    "print(f\"Encoded IDs: {encoded.ids}\")\n",
    "\n",
    "decoded = tokenizer.decode(encoded.ids)\n",
    "print(f\"Decoded String: {decoded}\")"
   ]
  },
  {
   "cell_type": "code",
   "execution_count": null,
   "metadata": {},
   "outputs": [],
   "source": []
  },
  {
   "cell_type": "code",
   "execution_count": null,
   "metadata": {},
   "outputs": [],
   "source": []
  }
 ],
 "metadata": {
  "kernelspec": {
   "display_name": "torch39",
   "language": "python",
   "name": "python3"
  },
  "language_info": {
   "codemirror_mode": {
    "name": "ipython",
    "version": 3
   },
   "file_extension": ".py",
   "mimetype": "text/x-python",
   "name": "python",
   "nbconvert_exporter": "python",
   "pygments_lexer": "ipython3",
   "version": "3.9.16"
  }
 },
 "nbformat": 4,
 "nbformat_minor": 2
}
