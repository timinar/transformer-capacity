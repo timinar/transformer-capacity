{
 "cells": [
  {
   "cell_type": "code",
   "execution_count": 90,
   "metadata": {},
   "outputs": [],
   "source": [
    "from pathlib import Path\n",
    "import requests\n",
    "import string\n",
    "from collections import Counter, defaultdict\n",
    "\n",
    "\n",
    "import matplotlib.pyplot as plt\n",
    "import numpy as np"
   ]
  },
  {
   "cell_type": "code",
   "execution_count": 43,
   "metadata": {},
   "outputs": [],
   "source": [
    "data_path = Path('data')"
   ]
  },
  {
   "cell_type": "code",
   "execution_count": 44,
   "metadata": {},
   "outputs": [],
   "source": [
    "shakespeare_path = data_path / 'Shakespeare.txt'\n",
    "if not shakespeare_path.exists():\n",
    "    url = 'https://raw.githubusercontent.com/karpathy/char-rnn/master/data/tinyshakespeare/input.txt'\n",
    "    response = requests.get(url)\n",
    "    shakespeare_path.write_text(response.text)\n"
   ]
  },
  {
   "cell_type": "code",
   "execution_count": 45,
   "metadata": {},
   "outputs": [
    {
     "name": "stdout",
     "output_type": "stream",
     "text": [
      "length of dataset in characters: 1,115,394\n"
     ]
    }
   ],
   "source": [
    "with open(shakespeare_path, 'r') as f:\n",
    "    data = f.read()\n",
    "print(f\"length of dataset in characters: {len(data):,}\")"
   ]
  },
  {
   "cell_type": "code",
   "execution_count": 46,
   "metadata": {},
   "outputs": [
    {
     "data": {
      "text/plain": [
       "'First Citizen:\\nBefore we proceed any further, hear me speak.\\n\\nAll:\\nSpeak, speak.\\n\\nFirst Citizen:\\nYou'"
      ]
     },
     "execution_count": 46,
     "metadata": {},
     "output_type": "execute_result"
    }
   ],
   "source": [
    "data[:100]"
   ]
  },
  {
   "cell_type": "code",
   "execution_count": 173,
   "metadata": {},
   "outputs": [],
   "source": [
    "def simplify_text(text):\n",
    "    text = text.lower().strip()  # Convert to lowercase and remove leading/trailing white spaces\n",
    "    text = text.replace('\\n', ' ')  # Replace newline characters with a space\n",
    "    text = text.replace('\\r', ' ')  # Replace carriage return characters with a space\n",
    "    \n",
    "    # Remove punctuation\n",
    "    text = ''.join(char for char in text if char not in string.punctuation)\n",
    "    \n",
    "    # Replace multiple spaces with a single space\n",
    "    text = ' '.join(text.split())\n",
    "    # remove numbers\n",
    "    text = ''.join(char for char in text if not char.isdigit())\n",
    "    \n",
    "    return text"
   ]
  },
  {
   "cell_type": "code",
   "execution_count": 174,
   "metadata": {},
   "outputs": [],
   "source": [
    "def unique_characters(text):\n",
    "    return len(set(text))\n",
    "\n",
    "def n_gram_statistics(text, n, normalize=False):\n",
    "    n_gram_counter = Counter(text[i:i+n] for i in range(len(text) - n + 1))\n",
    "    \n",
    "    if normalize:\n",
    "        total = sum(n_gram_counter.values())\n",
    "        return n_gram_counter, {k: v / total for k, v in n_gram_counter.items()}\n",
    "    else:\n",
    "        return n_gram_counter\n",
    "    \n",
    "    \n",
    "def normalize_ngram_counts(n_gram_counter):\n",
    "    # Create a defaultdict to hold the conditional probabilities\n",
    "    normalized_ngrams = defaultdict(float)\n",
    "    \n",
    "    # Create a defaultdict to hold the sum of counts for each context\n",
    "    context_totals = defaultdict(int)\n",
    "    \n",
    "    # First loop through to calculate the total counts for each context\n",
    "    for ngram, count in n_gram_counter.items():\n",
    "        context = ngram[:-1]\n",
    "        context_totals[context] += count\n",
    "\n",
    "    # Second loop through to normalize\n",
    "    for ngram, count in n_gram_counter.items():\n",
    "        context = ngram[:-1]\n",
    "        normalized_ngrams[ngram] = count / context_totals[context]\n",
    "\n",
    "    return normalized_ngrams"
   ]
  },
  {
   "cell_type": "markdown",
   "metadata": {},
   "source": [
    "## Prepare a chunk of text for n-gram analysis"
   ]
  },
  {
   "cell_type": "code",
   "execution_count": 212,
   "metadata": {},
   "outputs": [
    {
     "name": "stdout",
     "output_type": "stream",
     "text": [
      "percent of the full corpus: 100.00% %\n"
     ]
    }
   ],
   "source": [
    "text_chunk_size = len(data)\n",
    "\n",
    "print(f'percent of the full corpus: {text_chunk_size / len(data):.2%} %')"
   ]
  },
  {
   "cell_type": "code",
   "execution_count": 213,
   "metadata": {},
   "outputs": [
    {
     "data": {
      "text/plain": [
       "1053723"
      ]
     },
     "execution_count": 213,
     "metadata": {},
     "output_type": "execute_result"
    }
   ],
   "source": [
    "text = simplify_text(data[:text_chunk_size])\n",
    "len(text)"
   ]
  },
  {
   "cell_type": "code",
   "execution_count": 214,
   "metadata": {},
   "outputs": [
    {
     "name": "stdout",
     "output_type": "stream",
     "text": [
      "Number of unique characters: 27\n"
     ]
    }
   ],
   "source": [
    "alphabet_len = unique_characters(text)\n",
    "print(f\"Number of unique characters: {alphabet_len}\")"
   ]
  },
  {
   "cell_type": "code",
   "execution_count": 215,
   "metadata": {},
   "outputs": [
    {
     "name": "stdout",
     "output_type": "stream",
     "text": [
      " 1-grams: 27\n",
      " 2-grams: 546\n",
      " 3-grams: 5,193\n",
      " 4-grams: 24,176\n",
      " 5-grams: 77,032\n",
      " 6-grams: 182,784\n",
      " 7-grams: 324,458\n",
      " 8-grams: 480,065\n",
      " 9-grams: 630,035\n",
      "10-grams: 753,843\n"
     ]
    }
   ],
   "source": [
    "actual_n_grams = []\n",
    "computed_n_grams = defaultdict(dict)\n",
    "normalized_n_grams = defaultdict(dict)\n",
    "\n",
    "# Compute and store n-gram statistics up to 10-grams\n",
    "for n in range(1, 11):\n",
    "    actual_ngram_counter, norm_ngram_counter = n_gram_statistics(text, n, normalize=True)\n",
    "    actual_count = len(actual_ngram_counter)\n",
    "    \n",
    "\n",
    "    actual_n_grams.append(actual_count)\n",
    "    print(f\"{n :2}-grams: {actual_count:,}\")\n",
    "    \n",
    "    # Store the computed n-grams in the dictionary\n",
    "    computed_n_grams[n] = actual_ngram_counter\n",
    "    normalized_n_grams[n] = norm_ngram_counter\n",
    "\n",
    "    \n"
   ]
  },
  {
   "cell_type": "code",
   "execution_count": 218,
   "metadata": {},
   "outputs": [
    {
     "data": {
      "image/png": "[encoded data removed]",
      "text/plain": [
       "<Figure size 640x480 with 1 Axes>"
      ]
     },
     "metadata": {},
     "output_type": "display_data"
    }
   ],
   "source": [
    "Ns = np.arange(1,11)\n",
    "plt.plot(Ns, alphabet_len**Ns, label='Theoretical N-grams:  $27^N$', marker='o')\n",
    "plt.plot(Ns, actual_n_grams, label='Actual N-grams', marker='x')\n",
    "plt.xlabel('N')\n",
    "plt.ylabel('Number of N-grams')\n",
    "plt.title('Number of N-grams: theoretical vs actual')\n",
    "plt.legend()\n",
    "plt.grid(True)\n",
    "plt.yscale('log')\n",
    "plt.show()"
   ]
  },
  {
   "cell_type": "code",
   "execution_count": 180,
   "metadata": {},
   "outputs": [
    {
     "data": {
      "image/png": "[encoded data removed]",
      "text/plain": [
       "<Figure size 800x800 with 2 Axes>"
      ]
     },
     "metadata": {},
     "output_type": "display_data"
    }
   ],
   "source": [
    "# Extract bigram probabilities from computed_n_grams\n",
    "bigram_probabilities = normalize_ngram_counts(computed_n_grams[2])\n",
    "\n",
    "# Extract the unique characters to define dimensions of the square table\n",
    "unique_chars = sorted(list(set([char for bigram in bigram_probabilities.keys() for char in bigram])))\n",
    "\n",
    "# Create an empty matrix filled with zeros\n",
    "matrix_size = len(unique_chars)\n",
    "bigram_matrix = np.zeros((matrix_size, matrix_size))\n",
    "\n",
    "# Create a mapping from unique characters to indices\n",
    "char_to_index = {char: index for index, char in enumerate(unique_chars)}\n",
    "\n",
    "# Fill in the matrix with bigram probabilities\n",
    "for bigram, probability in bigram_probabilities.items():\n",
    "    x, y = bigram\n",
    "    bigram_matrix[char_to_index[x], char_to_index[y]] = probability\n",
    "\n",
    "# Create the plot\n",
    "fig, ax = plt.subplots(figsize=(8, 8))\n",
    "\n",
    "# Create a heatmap\n",
    "cax = ax.matshow(bigram_matrix, cmap=\"viridis\")\n",
    "\n",
    "# Add a colorbar\n",
    "fig.colorbar(cax)\n",
    "\n",
    "# Annotate the cells with probabilities\n",
    "for i in range(matrix_size):\n",
    "    for j in range(matrix_size):\n",
    "        c = bigram_matrix[j, i]\n",
    "        # ax.text(i, j, str(round(c, 2)), va='center', ha='center')\n",
    "\n",
    "# Set axis labels\n",
    "ax.set_xticks(np.arange(len(unique_chars)))\n",
    "ax.set_yticks(np.arange(len(unique_chars)))\n",
    "ax.set_xticklabels(unique_chars)\n",
    "ax.set_yticklabels(unique_chars)\n",
    "\n",
    "# Add labels and title\n",
    "plt.xlabel('Second Character')\n",
    "plt.ylabel('First Character')\n",
    "plt.title('Bigram Probabilities')\n",
    "\n",
    "plt.show()\n"
   ]
  },
  {
   "cell_type": "code",
   "execution_count": 193,
   "metadata": {},
   "outputs": [
    {
     "data": {
      "text/plain": [
       "1.0"
      ]
     },
     "execution_count": 193,
     "metadata": {},
     "output_type": "execute_result"
    }
   ],
   "source": [
    "bigram_matrix[char_to_index['q'], char_to_index['u']]"
   ]
  },
  {
   "cell_type": "markdown",
   "metadata": {},
   "source": [
    "## Computing entropy of N-grams"
   ]
  },
  {
   "cell_type": "code",
   "execution_count": 194,
   "metadata": {},
   "outputs": [],
   "source": [
    "def compute_entropy(probabilities):\n",
    "    return -np.sum([p * np.log(p) for p in probabilities])"
   ]
  },
  {
   "cell_type": "code",
   "execution_count": 195,
   "metadata": {},
   "outputs": [
    {
     "name": "stdout",
     "output_type": "stream",
     "text": [
      " 0, entropy: 3.296 : uniform distribution\n",
      " 1, entropy: 2.839, entropy per character: 2.839\n",
      " 2, entropy: 5.150, entropy per character: 2.575\n",
      " 3, entropy: 7.012, entropy per character: 2.337\n",
      " 4, entropy: 8.496, entropy per character: 2.124\n",
      " 5, entropy: 9.740, entropy per character: 1.948\n",
      " 6, entropy: 10.795, entropy per character: 1.799\n",
      " 7, entropy: 11.657, entropy per character: 1.665\n",
      " 8, entropy: 12.326, entropy per character: 1.541\n",
      " 9, entropy: 12.809, entropy per character: 1.423\n",
      "10, entropy: 13.139, entropy per character: 1.314\n"
     ]
    }
   ],
   "source": [
    "\n",
    "\n",
    "# Initialize a dictionary to store the entropy values for each 'n'\n",
    "ngram_entropies = {}\n",
    "print(f'{0:2}, entropy: {np.log(alphabet_len):.3f} : uniform distribution')\n",
    "\n",
    "# Compute entropy for each set of n-grams\n",
    "for n, ngram_probabilities in normalized_n_grams.items():\n",
    "    entropy = compute_entropy(list(ngram_probabilities.values()))\n",
    "    ngram_entropies[n] = entropy\n",
    "    print(f'{n:2}, entropy: {entropy:.3f}, entropy per character: {entropy / n:.3f}')\n",
    "\n",
    "# Now, ngram_entropies[n] will give you the entropy for the n-grams when 'n' is specified.\n",
    "# For example, ngram_entropies[2] will give you the entropy for bigrams.\n"
   ]
  },
  {
   "cell_type": "code",
   "execution_count": 238,
   "metadata": {},
   "outputs": [
    {
     "name": "stdout",
     "output_type": "stream",
     "text": [
      "in Shannons\n",
      " 1, entropy: 4.096, entropy/n: 4.096, Fn: 4.096\n",
      " 2, entropy: 7.430, entropy/n: 3.715, Fn: 3.334\n",
      " 3, entropy: 10.117, entropy/n: 3.372, Fn: 2.686\n",
      " 4, entropy: 12.258, entropy/n: 3.064, Fn: 2.141\n",
      " 5, entropy: 14.052, entropy/n: 2.810, Fn: 1.794\n",
      " 6, entropy: 15.574, entropy/n: 2.596, Fn: 1.522\n",
      " 7, entropy: 16.818, entropy/n: 2.403, Fn: 1.244\n",
      " 8, entropy: 17.783, entropy/n: 2.223, Fn: 0.965\n",
      " 9, entropy: 18.479, entropy/n: 2.053, Fn: 0.697\n",
      "10, entropy: 18.956, entropy/n: 1.896, Fn: 0.477\n"
     ]
    }
   ],
   "source": [
    "print('in Shannons')\n",
    "# Compute entropy for each set of n-grams\n",
    "for n, entropy in ngram_entropies.items():\n",
    "    entropy2 = 1/np.log(2) * entropy\n",
    "    if n > 1:\n",
    "        Fn = entropy2 - 1/np.log(2) * ngram_entropies[n-1]\n",
    "    else:\n",
    "        Fn = entropy2\n",
    "    print(f'{n:2}, entropy: {entropy2:.3f}, entropy/n: {entropy2 / n:.3f}, Fn: {Fn:.3f}')"
   ]
  },
  {
   "cell_type": "code",
   "execution_count": null,
   "metadata": {},
   "outputs": [],
   "source": []
  },
  {
   "cell_type": "code",
   "execution_count": 197,
   "metadata": {},
   "outputs": [],
   "source": [
    "\n",
    "def sample_from_ngrams(n, ngram_probabilities, seed, length=100):\n",
    "    if len(seed) < n - 1:\n",
    "        raise ValueError(\"Seed must be at least (n-1) characters long.\")\n",
    "\n",
    "    # Initialize the generated text with the seed\n",
    "    generated_text = seed\n",
    "\n",
    "    # Loop to generate 'length' number of characters\n",
    "    for _ in range(length):\n",
    "        # Extract the last (n-1) characters as context for the next character\n",
    "        context = generated_text[-(n - 1):]\n",
    "\n",
    "        # Get the possible next characters and their probabilities\n",
    "        possible_next_chars = [k[-1] for k, v in ngram_probabilities.items() if k.startswith(context)]\n",
    "        probabilities = [v for k, v in ngram_probabilities.items() if k.startswith(context)]\n",
    "\n",
    "        if not possible_next_chars:\n",
    "            # If no possible next characters, break the loop\n",
    "            break\n",
    "\n",
    "        # Sample the next character based on the probabilities\n",
    "        next_char = np.random.choice(possible_next_chars, p=probabilities)\n",
    "        \n",
    "        # Append the next character to the generated text\n",
    "        generated_text += next_char\n",
    "\n",
    "    return generated_text\n",
    "\n",
    "\n"
   ]
  },
  {
   "cell_type": "code",
   "execution_count": 226,
   "metadata": {},
   "outputs": [
    {
     "name": "stdout",
     "output_type": "stream",
     "text": [
      "to be or not to be endured sirrah go you to juliet how now whats the first thing about the making of their terror escalus we shall be so cominius whos yonder tower or walk in thievish ways or bid me lurk where serpents\n"
     ]
    }
   ],
   "source": [
    "# Example usage\n",
    "n = 10  # bigrams\n",
    "seed = \"to be or not to be\"  # Must be at least (n-1) characters\n",
    "length = 200  # Length of generated text\n",
    "ngram_probabilities = normalize_ngram_counts(computed_n_grams[n])\n",
    "\n",
    "generated_text = sample_from_ngrams(n, ngram_probabilities, seed, length)\n",
    "print(generated_text)"
   ]
  },
  {
   "cell_type": "code",
   "execution_count": null,
   "metadata": {},
   "outputs": [],
   "source": []
  }
 ],
 "metadata": {
  "kernelspec": {
   "display_name": "torch2",
   "language": "python",
   "name": "python3"
  },
  "language_info": {
   "codemirror_mode": {
    "name": "ipython",
    "version": 3
   },
   "file_extension": ".py",
   "mimetype": "text/x-python",
   "name": "python",
   "nbconvert_exporter": "python",
   "pygments_lexer": "ipython3",
   "version": "3.11.6"
  }
 },
 "nbformat": 4,
 "nbformat_minor": 2
}
