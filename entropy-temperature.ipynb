{
 "cells": [
  {
   "cell_type": "code",
   "execution_count": 1,
   "metadata": {},
   "outputs": [
    {
     "name": "stderr",
     "output_type": "stream",
     "text": [
      "/lustre/hpc/pheno/inar/mambaforge/envs/torch39/lib/python3.9/site-packages/tqdm/auto.py:21: TqdmWarning: IProgress not found. Please update jupyter and ipywidgets. See https://ipywidgets.readthedocs.io/en/stable/user_install.html\n",
      "  from .autonotebook import tqdm as notebook_tqdm\n"
     ]
    }
   ],
   "source": [
    "import torch\n",
    "import torch.nn.functional as F\n",
    "from transformers import AutoModelForCausalLM, AutoTokenizer\n"
   ]
  },
  {
   "cell_type": "code",
   "execution_count": 52,
   "metadata": {},
   "outputs": [],
   "source": [
    "import matplotlib.pyplot as plt"
   ]
  },
  {
   "cell_type": "code",
   "execution_count": 2,
   "metadata": {},
   "outputs": [
    {
     "name": "stderr",
     "output_type": "stream",
     "text": [
      "Loading checkpoint shards: 100%|██████████| 2/2 [00:31<00:00, 15.52s/it]\n"
     ]
    }
   ],
   "source": [
    "model = AutoModelForCausalLM.from_pretrained(\"mistralai/Mistral-7B-v0.1\", \n",
    "                                        #   torch_dtype=torch.float16,\n",
    "                                        #   device_map={\"\": 0}\n",
    "                                        )\n",
    "tokenizer = AutoTokenizer.from_pretrained(\"mistralai/Mistral-7B-v0.1\")"
   ]
  },
  {
   "cell_type": "code",
   "execution_count": null,
   "metadata": {},
   "outputs": [],
   "source": [
    "def compute_token_entropies(model, input_ids):\n",
    "    with torch.no_grad():\n",
    "        outputs = model(input_ids)\n",
    "    logits = outputs.logits\n",
    "\n",
    "    probs = F.softmax(logits, dim=-1)\n",
    "    entropies = -(probs * torch.log(probs)).sum(dim=-1)\n",
    "\n",
    "    return entropies"
   ]
  },
  {
   "cell_type": "code",
   "execution_count": 69,
   "metadata": {},
   "outputs": [],
   "source": [
    "def compute_entropy_temperature(model, inputs, temperature=1.0, max_new_tokens = 20):\n",
    "    outputs = model.generate(**inputs, max_new_tokens=max_new_tokens, do_sample=True, temperature=temperature)\n",
    "\n",
    "    input_len = inputs[\"input_ids\"].shape[-1]\n",
    "    outputs = outputs[:, input_len:] # remove the prompt from the generated output\n",
    "    \n",
    "    entropies = compute_token_entropies(model, outputs)\n",
    "    return outputs, entropies"
   ]
  },
  {
   "cell_type": "code",
   "execution_count": 75,
   "metadata": {},
   "outputs": [],
   "source": [
    "# prompt = \"Hey, are you conscious? Can you talk to me?\"\n",
    "prompt = \"But so far trouble had not come\"\n",
    "\n",
    "inputs = tokenizer([prompt], return_tensors=\"pt\")"
   ]
  },
  {
   "cell_type": "code",
   "execution_count": 87,
   "metadata": {},
   "outputs": [
    {
     "name": "stderr",
     "output_type": "stream",
     "text": [
      "Setting `pad_token_id` to `eos_token_id`:2 for open-end generation.\n",
      "Setting `pad_token_id` to `eos_token_id`:2 for open-end generation.\n",
      "Setting `pad_token_id` to `eos_token_id`:2 for open-end generation.\n",
      "Setting `pad_token_id` to `eos_token_id`:2 for open-end generation.\n",
      "Setting `pad_token_id` to `eos_token_id`:2 for open-end generation.\n",
      "Setting `pad_token_id` to `eos_token_id`:2 for open-end generation.\n",
      "Setting `pad_token_id` to `eos_token_id`:2 for open-end generation.\n",
      "Setting `pad_token_id` to `eos_token_id`:2 for open-end generation.\n"
     ]
    }
   ],
   "source": [
    "max_new_tokens = 100\n",
    "\n",
    "Tlist = [0.1, 0.5, 1.0, 2.0, 5.0, 10.0, 20.0, 100.0]\n",
    "generated_outputs = []\n",
    "entropies_list = []\n",
    "mean_entropy_list = [] \n",
    "for T in Tlist:\n",
    "    outputs, entropies = compute_entropy_temperature(model, inputs, temperature=T, max_new_tokens=max_new_tokens)\n",
    "    generated_outputs.append(outputs)\n",
    "    entropies_list.append(entropies)\n",
    "    mean_entropy_list.append(entropies.mean().item())"
   ]
  },
  {
   "cell_type": "code",
   "execution_count": 91,
   "metadata": {},
   "outputs": [
    {
     "data": {
      "image/png": "[encoded data removed]",
      "text/plain": [
       "<Figure size 640x480 with 1 Axes>"
      ]
     },
     "metadata": {},
     "output_type": "display_data"
    }
   ],
   "source": [
    "plt.plot(Tlist, mean_entropy_list)\n",
    "plt.xlabel(\"Temperature\")\n",
    "plt.ylabel(\"Mean entropy\")\n",
    "plt.xscale(\"log\")   \n",
    "\n",
    "plt.show()"
   ]
  },
  {
   "cell_type": "code",
   "execution_count": 89,
   "metadata": {},
   "outputs": [
    {
     "name": "stdout",
     "output_type": "stream",
     "text": [
      "But so far trouble had not come\n",
      "T = 0.1\n",
      ".\n",
      "\n",
      "The first day of the new year had been a quiet one.\n",
      "\n",
      "The second day had been a quiet one.\n",
      "\n",
      "The third day had been a quiet one.\n",
      "\n",
      "The fourth day had been a quiet one.\n",
      "\n",
      "The fifth day had been a quiet one.\n",
      "\n",
      "The sixth day had been a quiet one.\n",
      "\n",
      "The seventh day had been a quiet one.\n",
      "\n",
      "The eighth day had been a quiet one.\n",
      "\n",
      "The ninth day\n",
      "T = 0.5\n",
      "to me. I was a good girl. I had never been in trouble. I was a good girl.\n",
      "\n",
      "I was a good girl. I was a good girl. I was a good girl.\n",
      "\n",
      "I was a good girl. I was a good girl. I was a good girl.\n",
      "\n",
      "I was a good girl. I was a good girl. I was a good girl.\n",
      "\n",
      "I was a good girl. I was a good girl. I was a good\n",
      "T = 1.0\n",
      ". And as for the great war, it had only reached their doorstep without any damage done. And the people were in the beginning excited and proud in the face of the great struggle. Some went down to the lines, to see the army or the navy or the ships unloading munitions. At first the war seemed such a very big thing which would, one hoped, soon be over. And the men in the Army and Navy knew so much more than the people did, and the\n",
      "T = 2.0\n",
      "into Wem. Nothing whatever for centuries (I’m not being poetic, though) nothing whatsoever worse than mild weather and gout have been known, by human witness in Wem that had reached even half that time and, who knew what troubles came long before or will last after human kind itself was lost ? Certain, certainly it has known such and maybe such again soon. Not knowing in the deep places it couldn a small blessing to not to hope too deep knowing that soon or\n",
      "T = 5.0\n",
      ". With every moment our expectations gathered around her with so much force and weight—every hope built as swift to burst in mid-space had ris'ten and been stright: And while, like men and women whose deep desire had brought to their souls such might even with the coming night we fell away in one deep shadowless pool…\" …when love drew the two away into one …” This could certainly make life complicated while dating. She believed people deserved freedom or as I understand in human\n",
      "T = 10.0\n",
      "within range—just so that in spite it hung there ever-impen and o owing always-migh ony that his hope would make more the longer of each tether of. To one there be some it’ing; if for be some a reason! that was just like “SHE can” do and in his way he has he is had the— the in that was as much was he sure on which what that his it— and just could of his “It is\n",
      "T = 20.0\n",
      "so many friends might be taken notice not one so close we are to all it so difficult how do what can tell you just think when things you just go it’ for sure now it does what if everything good about time what do know me or to do me but even then a look to one time where but for not but this where when time comes time does get but good as so now no now so as it you one if but is there when but just then will never go that know who do\n",
      "T = 100.0\n",
      "within call that man awoot\n",
      "He’’ s like those that were not a man was of many thoughts ――. The greatness did to make things ‚theory‘ he believed only if 【 of men “men ‘replied is called ‘n’. ‘the‘ who knows’” He also took off my helmet. Taken-over. Not ‘tie the same ‘fence not I have （ 臎 the road ‘taking it\n"
     ]
    }
   ],
   "source": [
    "print(prompt)\n",
    "for temp, outputs in zip(Tlist, generated_outputs):\n",
    "    print(f'T = {temp}')\n",
    "    print(tokenizer.batch_decode(outputs, skip_special_tokens=True, clean_up_tokenization_spaces=False)[0])"
   ]
  },
  {
   "cell_type": "code",
   "execution_count": null,
   "metadata": {},
   "outputs": [],
   "source": []
  },
  {
   "cell_type": "code",
   "execution_count": null,
   "metadata": {},
   "outputs": [],
   "source": []
  },
  {
   "cell_type": "code",
   "execution_count": null,
   "metadata": {},
   "outputs": [],
   "source": []
  }
 ],
 "metadata": {
  "kernelspec": {
   "display_name": "torch39",
   "language": "python",
   "name": "python3"
  },
  "language_info": {
   "codemirror_mode": {
    "name": "ipython",
    "version": 3
   },
   "file_extension": ".py",
   "mimetype": "text/x-python",
   "name": "python",
   "nbconvert_exporter": "python",
   "pygments_lexer": "ipython3",
   "version": "3.9.16"
  }
 },
 "nbformat": 4,
 "nbformat_minor": 2
}
